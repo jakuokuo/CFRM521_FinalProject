{
 "cells": [
  {
   "cell_type": "markdown",
   "id": "d35a28a4",
   "metadata": {},
   "source": [
    "# CFRM 521 - Final Report\n",
    "\n",
    "#### By: Wooseok (Jeff), Max, Steve, Ilse, Jasmine\n",
    "\n",
    "----\n",
    "\n",
    "# Introduction"
   ]
  },
  {
   "cell_type": "markdown",
   "id": "fa75e0d6",
   "metadata": {},
   "source": [
    "# Data"
   ]
  },
  {
   "cell_type": "code",
   "execution_count": null,
   "id": "4ad8b01a",
   "metadata": {},
   "outputs": [],
   "source": [
    "# Load the packages (at the end we can consolidate all the packages we individually used here so that we can create a single environment.yml file for a conda environment at the end)\n",
    "import numpy as np\n",
    "import pandas as pd\n",
    "\n",
    "# Read in the data (this section should be the same for everyone)\n"
   ]
  },
  {
   "cell_type": "markdown",
   "id": "7ab67c93",
   "metadata": {},
   "source": [
    "----\n",
    "\n",
    "# Wooseok's Model\n",
    "\n",
    "----\n",
    "\n",
    "# Max's Model\n",
    "\n",
    "----\n",
    "\n",
    "# Steve's Model\n",
    "\n",
    "----\n",
    "\n",
    "# Ilse's Model\n",
    "\n",
    "----\n",
    "\n",
    "# Jasmine's Model\n",
    "\n",
    "----\n",
    "\n",
    "# Conclusions"
   ]
  }
 ],
 "metadata": {
  "kernelspec": {
   "display_name": "Python 3",
   "language": "python",
   "name": "python3"
  },
  "language_info": {
   "name": "python",
   "version": "3.11.11"
  }
 },
 "nbformat": 4,
 "nbformat_minor": 5
}
