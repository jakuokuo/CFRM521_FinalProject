{
 "cells": [
  {
   "cell_type": "markdown",
   "id": "d35a28a4",
   "metadata": {},
   "source": [
    "# CFRM 521 - Final Report\n",
    "\n",
    "#### By: Wooseok (Jeff), Max, Steve, Ilse, Jasmine\n",
    "\n",
    "----\n",
    "\n",
    "# Introduction"
   ]
  }
 ],
 "metadata": {
  "language_info": {
   "name": "python"
  }
 },
 "nbformat": 4,
 "nbformat_minor": 5
}
